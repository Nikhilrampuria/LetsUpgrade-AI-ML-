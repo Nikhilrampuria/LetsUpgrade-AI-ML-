{
 "cells": [
  {
   "cell_type": "markdown",
   "metadata": {},
   "source": [
    "\n",
    "1) Research on whether addition, subtraction, multiplication, division, floor division and modulo operations be performed on complex numbers. Based on your study, implement a python program to demonstrate these operations"
   ]
  },
  {
   "cell_type": "code",
   "execution_count": 1,
   "metadata": {},
   "outputs": [
    {
     "name": "stdout",
     "output_type": "stream",
     "text": [
      "Addition of (1+1j) and (2+2j) complex numbers : (3+3j)\n",
      "Subtraction of (1+1j) and (2+2j) complex numbers : (-1-1j)\n",
      "Multiplication of (1+1j) and (2+2j) complex numbers : 4j\n",
      "Division of (1+1j) and (2+2j) complex numbers : (0.5+0j)\n",
      "\n",
      "Floor division and modulo operations cannot be performed on complex number\n"
     ]
    }
   ],
   "source": [
    "num1 = 1 + 1j\n",
    "num2 = 2 + 2j\n",
    "\n",
    "print(f\"Addition of {num1} and {num2} complex numbers : {num1+num2}\")\n",
    "print(f\"Subtraction of {num1} and {num2} complex numbers : {num1-num2}\")\n",
    "print(f\"Multiplication of {num1} and {num2} complex numbers : {num1*num2}\")\n",
    "print(f\"Division of {num1} and {num2} complex numbers : {num1/num2}\")\n",
    "# print(f\"Floor Division of {num1} and {num2} complex numbers : {num1//num2}\")\n",
    "# print(f\"Modulo of {num1} and {num2} complex numbers : {num1%num2}\")\n",
    "print('\\nFloor division and modulo operations cannot be performed on complex number')"
   ]
  },
  {
   "cell_type": "markdown",
   "metadata": {},
   "source": [
    "2) Research on range() function and its parameters. Create a markdown cell and write in you own words (no copy-paste from google please) what you understand about it. Implement a small program of your choice on the same."
   ]
  },
  {
   "cell_type": "code",
   "execution_count": 2,
   "metadata": {},
   "outputs": [
    {
     "name": "stdout",
     "output_type": "stream",
     "text": [
      "Generating a range of numbers from 0 to 100 divisible by 3 using range() function.\n",
      "3\n",
      "6\n",
      "9\n",
      "12\n",
      "15\n",
      "18\n",
      "21\n",
      "24\n",
      "27\n",
      "30\n",
      "33\n",
      "36\n",
      "39\n",
      "42\n",
      "45\n",
      "48\n",
      "51\n",
      "54\n",
      "57\n",
      "60\n",
      "63\n",
      "66\n",
      "69\n",
      "72\n",
      "75\n",
      "78\n",
      "81\n",
      "84\n",
      "87\n",
      "90\n",
      "93\n",
      "96\n",
      "99\n"
     ]
    }
   ],
   "source": [
    "print(\"Generating a range of numbers from 0 to 100 divisible by 3 using range() function.\")\n",
    "for i in range(3, 100, 3):\n",
    "    print(i)"
   ]
  },
  {
   "cell_type": "markdown",
   "metadata": {},
   "source": [
    "3) Consider two numbers. Perform their subtraction and if result of subtraction is greater than 25, print their multiplication result else print their divisin result"
   ]
  },
  {
   "cell_type": "code",
   "execution_count": 5,
   "metadata": {},
   "outputs": [
    {
     "name": "stdout",
     "output_type": "stream",
     "text": [
      "Multiplication of 90 and 30 is 2700\n"
     ]
    }
   ],
   "source": [
    "\n",
    "num1 = 90\n",
    "num2 = 30\n",
    "\n",
    "if num1 - num2 > 25:\n",
    "    print(f\"Multiplication of {num1} and {num2} is {num1 * num2}\")\n",
    "else:\n",
    "    print(f\"Division of {num1} and {num2} is {num1 / num2}\")"
   ]
  },
  {
   "cell_type": "markdown",
   "metadata": {},
   "source": [
    "5) Consider a list of 10 elements. Print all the elements in the list which are greater than 7 when that number is divided by 2"
   ]
  },
  {
   "cell_type": "code",
   "execution_count": 7,
   "metadata": {},
   "outputs": [
    {
     "name": "stdout",
     "output_type": "stream",
     "text": [
      "Elements in the list which are greater than 7 when that number is divided by 2: \n",
      "61\n",
      "30\n",
      "50\n"
     ]
    }
   ],
   "source": [
    "lst = [6, 2, 61, 8, 30, 2, 4, 50, 14, 2]\n",
    "print(\"Elements in the list which are greater than 7 when that number is divided by 2: \")\n",
    "for i in lst:\n",
    "    if i/2 > 7:\n",
    "        print(i)"
   ]
  },
  {
   "cell_type": "code",
   "execution_count": null,
   "metadata": {},
   "outputs": [],
   "source": []
  }
 ],
 "metadata": {
  "kernelspec": {
   "display_name": "Python 3",
   "language": "python",
   "name": "python3"
  },
  "language_info": {
   "codemirror_mode": {
    "name": "ipython",
    "version": 3
   },
   "file_extension": ".py",
   "mimetype": "text/x-python",
   "name": "python",
   "nbconvert_exporter": "python",
   "pygments_lexer": "ipython3",
   "version": "3.7.6"
  }
 },
 "nbformat": 4,
 "nbformat_minor": 4
}
