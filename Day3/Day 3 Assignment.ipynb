{
 "cells": [
  {
   "cell_type": "markdown",
   "metadata": {},
   "source": [
    "1) Write a program to subtract two complex numbers in Python"
   ]
  },
  {
   "cell_type": "code",
   "execution_count": 5,
   "metadata": {},
   "outputs": [
    {
     "name": "stdout",
     "output_type": "stream",
     "text": [
      "Subtraction of complex numbers (4+5j) and (6+10j) is (-2-5j)\n"
     ]
    }
   ],
   "source": [
    "a = 4+5j\n",
    "b = 6+10j\n",
    "print(f'Subtraction of complex numbers {a} and {b} is {a-b}')"
   ]
  },
  {
   "cell_type": "markdown",
   "metadata": {},
   "source": [
    "2) Write a program to find the fourth root of a number"
   ]
  },
  {
   "cell_type": "code",
   "execution_count": 6,
   "metadata": {},
   "outputs": [
    {
     "name": "stdout",
     "output_type": "stream",
     "text": [
      "Fourth root of 25 is 2\n"
     ]
    }
   ],
   "source": [
    "a = 25\n",
    "print(f'Fourth root of {a} is {int(a**(1/4))}')"
   ]
  },
  {
   "cell_type": "markdown",
   "metadata": {},
   "source": [
    "3) Write a program to swap two numbes in Python with the help of temporary variable"
   ]
  },
  {
   "cell_type": "code",
   "execution_count": 7,
   "metadata": {},
   "outputs": [
    {
     "name": "stdout",
     "output_type": "stream",
     "text": [
      "Before swap\n",
      " x = 1\n",
      " y = 2\n",
      "After swap\n",
      " x = 2\n",
      " y = 1\n"
     ]
    }
   ],
   "source": [
    "x = 1\n",
    "y = 2\n",
    "print(f'Before swap\\n x = {x}\\n y = {y}')\n",
    "temp = x\n",
    "x = y\n",
    "y = temp\n",
    "print(f'After swap\\n x = {x}\\n y = {y}')"
   ]
  },
  {
   "cell_type": "markdown",
   "metadata": {},
   "source": [
    "4) Write a program to swap two numbers in Python without using a temporary variable"
   ]
  },
  {
   "cell_type": "code",
   "execution_count": 8,
   "metadata": {},
   "outputs": [
    {
     "name": "stdout",
     "output_type": "stream",
     "text": [
      "Before swap\n",
      " x = 1\n",
      " y = 2\n",
      "After swap\n",
      " x = 2\n",
      " y = 1\n"
     ]
    }
   ],
   "source": [
    "x = 1\n",
    "y = 2\n",
    "print(f'Before swap\\n x = {x}\\n y = {y}')\n",
    "x, y = y, x\n",
    "print(f'After swap\\n x = {x}\\n y = {y}')"
   ]
  },
  {
   "cell_type": "markdown",
   "metadata": {},
   "source": [
    "5) Write a program to convert fahrenheit to kelvin and celsius both"
   ]
  },
  {
   "cell_type": "code",
   "execution_count": 10,
   "metadata": {},
   "outputs": [
    {
     "name": "stdout",
     "output_type": "stream",
     "text": [
      "90F is equal to 32.22C and 305.37K\n"
     ]
    }
   ],
   "source": [
    "\n",
    "f = 90\n",
    "c = (f-32)/1.8\n",
    "k = c + 273.15\n",
    "\n",
    "print(f'{f}F is equal to {c:.2f}C and {k:.2f}K')"
   ]
  },
  {
   "cell_type": "markdown",
   "metadata": {},
   "source": [
    "6) Write a program to demonstrate all the available data types in Python"
   ]
  },
  {
   "cell_type": "code",
   "execution_count": 13,
   "metadata": {
    "scrolled": true
   },
   "outputs": [
    {
     "name": "stdout",
     "output_type": "stream",
     "text": [
      "<class 'int'>\n",
      "<class 'float'>\n",
      "<class 'str'>\n",
      "<class 'complex'>\n",
      "<class 'list'>\n",
      "<class 'tuple'>\n",
      "<class 'dict'>\n",
      "<class 'set'>\n",
      "<class 'bool'>\n",
      "<class 'range'>\n",
      "<class 'frozenset'>\n",
      "<class 'bytes'>\n",
      "<class 'bytearray'>\n",
      "<class 'memoryview'>\n"
     ]
    }
   ],
   "source": [
    "a = 10\n",
    "print(type(a))\n",
    "\n",
    "b = 10.0\n",
    "print(type(b))\n",
    "\n",
    "c = 'qwerty'\n",
    "print(type(c))\n",
    "\n",
    "d = 3 + 5j\n",
    "print(type(d))\n",
    "\n",
    "e = [1,2,3,4,5,'a','b']\n",
    "print(type(e))\n",
    "\n",
    "f = (1,2,3,4,5,'a','b')\n",
    "print(type(f))\n",
    "\n",
    "g = {'tst1': 20, 'tst2': 30}\n",
    "print(type(g))\n",
    "\n",
    "h = {'test1', 'test2'}\n",
    "print(type(h))\n",
    "\n",
    "i = True\n",
    "print(type(i))\n",
    "\n",
    "j = range(10)\n",
    "print(type(j))\n",
    "\n",
    "k = frozenset({\"a\", \"b\", \"c\"})\n",
    "print(type(k))\n",
    "\n",
    "l = b'qwerty'\n",
    "print(type(l))\n",
    "\n",
    "m = bytearray(10)\n",
    "print(type(m))\n",
    "\n",
    "n = memoryview(bytes(10))\n",
    "print(type(n))"
   ]
  },
  {
   "cell_type": "markdown",
   "metadata": {},
   "source": [
    "7) Create a Markdown cell in Jupyter and list the steps discussed in the session by Dr. Darshan Ingle sir to create Github profile and upload Githubs Assignment link"
   ]
  },
  {
   "cell_type": "raw",
   "metadata": {},
   "source": [
    "The steps to create a GitHub profile are as follows:\n",
    "\n",
    "Go to www.github.com\n",
    "SignUp/SignIn to our account\n",
    "Press on the button which says Create New Repository\n",
    "Name it as LetsUpgrade AI-ML and fill some description and nothing else and press Create\n",
    "After the assignment is done in Jupyter Notebook we have to create a folder with the name of the current day of the session e.g. Day 3\n",
    "After that in GitHub we have to select the uploading an existing file link on the setup page which comes up after creating the repository\n",
    "Then we have to drag and drop the folder and just commit the changes without editing anything else\n",
    "Here we have successfully uploaded the Assignment on GitHub\n",
    "How to upload the GitHubs Assignment Link\n",
    "\n",
    "Navigate to the parent repository and open the folder named same as the current day of the session e.g. Day 3\n",
    "Just copy the link from the Address Bar and try to see if it is visible to the public by opening the link in incognito mode\n",
    "After testing open the Assignment submission form fill the required data and paste the GitHub link which we just copied and press Submit\n",
    "Here we have successfully submitted the Assignment"
   ]
  },
  {
   "cell_type": "code",
   "execution_count": null,
   "metadata": {},
   "outputs": [],
   "source": []
  }
 ],
 "metadata": {
  "kernelspec": {
   "display_name": "Python 3",
   "language": "python",
   "name": "python3"
  },
  "language_info": {
   "codemirror_mode": {
    "name": "ipython",
    "version": 3
   },
   "file_extension": ".py",
   "mimetype": "text/x-python",
   "name": "python",
   "nbconvert_exporter": "python",
   "pygments_lexer": "ipython3",
   "version": "3.7.6"
  }
 },
 "nbformat": 4,
 "nbformat_minor": 4
}
